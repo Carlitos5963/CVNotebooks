{
 "cells": [
  {
   "cell_type": "code",
   "execution_count": 1,
   "metadata": {},
   "outputs": [],
   "source": [
    "import cv2\n",
    "import numpy as np"
   ]
  },
  {
   "cell_type": "code",
   "execution_count": 2,
   "metadata": {},
   "outputs": [
    {
     "data": {
      "text/plain": [
       "<function destroyAllWindows>"
      ]
     },
     "execution_count": 2,
     "metadata": {},
     "output_type": "execute_result"
    }
   ],
   "source": [
    "#VARIABLES\n",
    "\n",
    "#True while mouseButtonDown, false when up\n",
    "drawing = False\n",
    "ix, iy = -1, -1\n",
    "\n",
    "#FUNCTION\n",
    "def draw_rectangle(event,x,y,flags,params):\n",
    "    \n",
    "    global ix, iy, drawing\n",
    "    \n",
    "    if event == cv2.EVENT_LBUTTONDOWN:\n",
    "        drawing = True\n",
    "        ix, iy = x, y\n",
    "      \n",
    "    elif event == cv2.EVENT_MOUSEMOVE:\n",
    "        if drawing == True:\n",
    "            cv2.rectangle(img,pt1=(ix,iy), pt2=(x,y),color=(0,255,0), thickness=-1, lineType=cv2.LINE_AA)\n",
    "\n",
    "    \n",
    "    elif event == cv2.EVENT_LBUTTONUP:\n",
    "        drawing = False\n",
    "        cv2.rectangle(img,pt1=(ix,iy), pt2=(x,y),color=(0,255,0), thickness=-1, lineType=cv2.LINE_AA)\n",
    "\n",
    "        \n",
    "\n",
    "#SHOWING THE IMAGE\n",
    "\n",
    "#BLACK IMAGE\n",
    "img = np.zeros(shape=(720,720,3),dtype=np.int8)\n",
    "\n",
    "cv2.namedWindow(winname='image')\n",
    "cv2.setMouseCallback('image', draw_rectangle)\n",
    "\n",
    "while True:\n",
    "    cv2.imshow('image', img)\n",
    "    if(cv2.waitKey(1) & 0xFF == ord('q')):\n",
    "        break\n",
    "        \n",
    "cv2.destroyAllWindows"
   ]
  },
  {
   "cell_type": "code",
   "execution_count": null,
   "metadata": {},
   "outputs": [],
   "source": []
  }
 ],
 "metadata": {
  "kernelspec": {
   "display_name": "Python 3",
   "language": "python",
   "name": "python3"
  },
  "language_info": {
   "codemirror_mode": {
    "name": "ipython",
    "version": 3
   },
   "file_extension": ".py",
   "mimetype": "text/x-python",
   "name": "python",
   "nbconvert_exporter": "python",
   "pygments_lexer": "ipython3",
   "version": "3.6.6"
  }
 },
 "nbformat": 4,
 "nbformat_minor": 2
}
